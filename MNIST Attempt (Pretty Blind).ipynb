{
 "cells": [
  {
   "cell_type": "code",
   "execution_count": 1,
   "metadata": {},
   "outputs": [
    {
     "name": "stderr",
     "output_type": "stream",
     "text": [
      "Using TensorFlow backend.\n",
      "C:\\ProgramData\\Anaconda3\\lib\\site-packages\\tensorflow\\python\\framework\\dtypes.py:526: FutureWarning: Passing (type, 1) or '1type' as a synonym of type is deprecated; in a future version of numpy, it will be understood as (type, (1,)) / '(1,)type'.\n",
      "  _np_qint8 = np.dtype([(\"qint8\", np.int8, 1)])\n",
      "C:\\ProgramData\\Anaconda3\\lib\\site-packages\\tensorflow\\python\\framework\\dtypes.py:527: FutureWarning: Passing (type, 1) or '1type' as a synonym of type is deprecated; in a future version of numpy, it will be understood as (type, (1,)) / '(1,)type'.\n",
      "  _np_quint8 = np.dtype([(\"quint8\", np.uint8, 1)])\n",
      "C:\\ProgramData\\Anaconda3\\lib\\site-packages\\tensorflow\\python\\framework\\dtypes.py:528: FutureWarning: Passing (type, 1) or '1type' as a synonym of type is deprecated; in a future version of numpy, it will be understood as (type, (1,)) / '(1,)type'.\n",
      "  _np_qint16 = np.dtype([(\"qint16\", np.int16, 1)])\n",
      "C:\\ProgramData\\Anaconda3\\lib\\site-packages\\tensorflow\\python\\framework\\dtypes.py:529: FutureWarning: Passing (type, 1) or '1type' as a synonym of type is deprecated; in a future version of numpy, it will be understood as (type, (1,)) / '(1,)type'.\n",
      "  _np_quint16 = np.dtype([(\"quint16\", np.uint16, 1)])\n",
      "C:\\ProgramData\\Anaconda3\\lib\\site-packages\\tensorflow\\python\\framework\\dtypes.py:530: FutureWarning: Passing (type, 1) or '1type' as a synonym of type is deprecated; in a future version of numpy, it will be understood as (type, (1,)) / '(1,)type'.\n",
      "  _np_qint32 = np.dtype([(\"qint32\", np.int32, 1)])\n",
      "C:\\ProgramData\\Anaconda3\\lib\\site-packages\\tensorflow\\python\\framework\\dtypes.py:535: FutureWarning: Passing (type, 1) or '1type' as a synonym of type is deprecated; in a future version of numpy, it will be understood as (type, (1,)) / '(1,)type'.\n",
      "  np_resource = np.dtype([(\"resource\", np.ubyte, 1)])\n"
     ]
    }
   ],
   "source": [
    "from keras.datasets import mnist\n",
    "import numpy as np\n",
    "import sys\n",
    "\n",
    "(x_train, y_train), (x_test, y_test) = mnist.load_data()\n",
    "\n",
    "images = x_train[0:1000].reshape(1000, 28*28) / 255\n",
    "labels = y_train[0:1000]"
   ]
  },
  {
   "cell_type": "code",
   "execution_count": 2,
   "metadata": {},
   "outputs": [],
   "source": [
    "one_hot_labels = np.zeros((len(labels), 10))"
   ]
  },
  {
   "cell_type": "code",
   "execution_count": 3,
   "metadata": {},
   "outputs": [],
   "source": [
    "for i,l in enumerate(labels):\n",
    "    one_hot_labels[i][l] = 1\n",
    "labels = one_hot_labels"
   ]
  },
  {
   "cell_type": "code",
   "execution_count": 4,
   "metadata": {},
   "outputs": [],
   "source": [
    "test_images = x_test.reshape(len(x_test), 28*28) / 255\n",
    "test_labels = np.zeros((len(y_test), 10))\n",
    "for i, l in enumerate(y_test):\n",
    "    test_labels[i][l] = 1"
   ]
  },
  {
   "cell_type": "code",
   "execution_count": 20,
   "metadata": {},
   "outputs": [],
   "source": [
    "np.random.seed(3)\n",
    "batch_size = 100\n",
    "def tanh(x):\n",
    "    return np.tanh(x)\n",
    "def tanh2deriv(output):\n",
    "    return 1 - (output ** 2)\n",
    "def softmax(x):\n",
    "    temp = np.exp(x)\n",
    "    return temp / np.sum(temp, axis=1, keepdims=True)\n",
    "alpha, iterations, hidden_size, pixels_per_image, num_labels = (2, 300, 100, 784, 10)"
   ]
  },
  {
   "cell_type": "code",
   "execution_count": 21,
   "metadata": {},
   "outputs": [
    {
     "name": "stdout",
     "output_type": "stream",
     "text": [
      "\n",
      " I: 0 Test Acc: 0.3163 Train Acc: 0.15\n",
      " I: 10 Test Acc: 0.6901 Train Acc: 0.713\n",
      " I: 20 Test Acc: 0.7137 Train Acc: 0.741\n",
      " I: 30 Test Acc: 0.7436 Train Acc: 0.779\n",
      " I: 40 Test Acc: 0.7743 Train Acc: 0.813\n",
      " I: 50 Test Acc: 0.7962 Train Acc: 0.824\n",
      " I: 60 Test Acc: 0.8131 Train Acc: 0.85\n",
      " I: 70 Test Acc: 0.8236 Train Acc: 0.856\n",
      " I: 80 Test Acc: 0.8294 Train Acc: 0.875\n",
      " I: 90 Test Acc: 0.8369 Train Acc: 0.874\n",
      " I: 100 Test Acc: 0.8404 Train Acc: 0.896\n",
      " I: 110 Test Acc: 0.8443 Train Acc: 0.896\n",
      " I: 120 Test Acc: 0.8483 Train Acc: 0.903\n",
      " I: 130 Test Acc: 0.8513 Train Acc: 0.892\n",
      " I: 140 Test Acc: 0.8523 Train Acc: 0.912\n",
      " I: 150 Test Acc: 0.8552 Train Acc: 0.914\n",
      " I: 160 Test Acc: 0.8578 Train Acc: 0.924\n",
      " I: 170 Test Acc: 0.8586 Train Acc: 0.92\n",
      " I: 180 Test Acc: 0.8599 Train Acc: 0.92\n",
      " I: 190 Test Acc: 0.8602 Train Acc: 0.924\n",
      " I: 200 Test Acc: 0.8623 Train Acc: 0.92\n",
      " I: 210 Test Acc: 0.8632 Train Acc: 0.933\n",
      " I: 220 Test Acc: 0.8644 Train Acc: 0.937\n",
      " I: 230 Test Acc: 0.8657 Train Acc: 0.933\n",
      " I: 240 Test Acc: 0.8668 Train Acc: 0.94\n",
      " I: 250 Test Acc: 0.868 Train Acc: 0.935\n",
      " I: 260 Test Acc: 0.8687 Train Acc: 0.933\n",
      " I: 270 Test Acc: 0.8691 Train Acc: 0.942\n",
      " I: 280 Test Acc: 0.8694 Train Acc: 0.938\n",
      " I: 290 Test Acc: 0.8703 Train Acc: 0.941"
     ]
    }
   ],
   "source": [
    "weights_0_1 = 0.02*np.random.random((pixels_per_image, hidden_size)) - 0.01\n",
    "weights_1_2 = 0.2*np.random.random((hidden_size, num_labels)) - 0.1\n",
    "\n",
    "for j in range(iterations):\n",
    "    correct_cnt = 0\n",
    "    \n",
    "    for i in range(int(len(images) / batch_size)):\n",
    "        \n",
    "        batch_start, batch_end = ((i * batch_size), ((i+1) * batch_size))\n",
    "        \n",
    "        layer_0 = images[batch_start:batch_end]\n",
    "        layer_1 = tanh(np.dot(layer_0, weights_0_1))\n",
    "        dropout_mask = np.random.randint(2, size=layer_1.shape)\n",
    "        layer_1 *= dropout_mask * 2\n",
    "        layer_2 = softmax(np.dot(layer_1, weights_1_2))\n",
    "        \n",
    "        for k in range(batch_size):\n",
    "            correct_cnt += int(np.argmax(layer_2[k:k+1]) == np.argmax(labels[batch_start+k:batch_end+k+1]))\n",
    "        \n",
    "        layer_2_delta = (labels[batch_start:batch_end] - layer_2) / (batch_size * layer_2.shape[0])\n",
    "        layer_1_delta = layer_2_delta.dot(weights_1_2.T) * tanh2deriv(layer_1)\n",
    "        \n",
    "        layer_1_delta *= dropout_mask\n",
    "        \n",
    "        weights_1_2 += alpha * layer_1.T.dot(layer_2_delta)\n",
    "        weights_0_1 += alpha * layer_0.T.dot(layer_1_delta)\n",
    "        \n",
    "    test_correct_cnt = 0\n",
    "    for i in range(len(test_images)):\n",
    "        layer_0 = test_images[i:i+1]\n",
    "        layer_1 = tanh(np.dot(layer_0, weights_0_1))\n",
    "        layer_2 = np.dot(layer_1, weights_1_2)\n",
    "        test_correct_cnt += int(np.argmax(layer_2) == np.argmax(test_labels[i:i+1]))\n",
    "    if(j % 10 == 0):\n",
    "        sys.stdout.write(\"\\n\" + \\\n",
    "                     \" I: \" + str(j) + \\\n",
    "                     \" Test Acc: \" + str(test_correct_cnt/float(len(test_images))) + \\\n",
    "                     \" Train Acc: \" + str(correct_cnt/float(len(images))))"
   ]
  },
  {
   "cell_type": "code",
   "execution_count": null,
   "metadata": {},
   "outputs": [],
   "source": []
  }
 ],
 "metadata": {
  "kernelspec": {
   "display_name": "Python 3",
   "language": "python",
   "name": "python3"
  },
  "language_info": {
   "codemirror_mode": {
    "name": "ipython",
    "version": 3
   },
   "file_extension": ".py",
   "mimetype": "text/x-python",
   "name": "python",
   "nbconvert_exporter": "python",
   "pygments_lexer": "ipython3",
   "version": "3.7.6"
  }
 },
 "nbformat": 4,
 "nbformat_minor": 2
}
